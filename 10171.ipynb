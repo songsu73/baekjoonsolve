{
 "cells": [
  {
   "cell_type": "code",
   "execution_count": 5,
   "id": "3ba5d15c",
   "metadata": {},
   "outputs": [
    {
     "name": "stdout",
     "output_type": "stream",
     "text": [
      "\\    /\\ \n",
      ") )  ( ') \n",
      "(  /  ) \n",
      " \\(__)| \n"
     ]
    }
   ],
   "source": [
    "print(\"\\    /\\\\ \")\n",
    "print(\") )  ( ')\")\n",
    "print(\"(  /  )\")\n",
    "print(\" \\(__)| \")"
   ]
  },
  {
   "cell_type": "code",
   "execution_count": null,
   "id": "2283cf23",
   "metadata": {},
   "outputs": [],
   "source": []
  }
 ],
 "metadata": {
  "kernelspec": {
   "display_name": "Python 3 (ipykernel)",
   "language": "python",
   "name": "python3"
  },
  "language_info": {
   "codemirror_mode": {
    "name": "ipython",
    "version": 3
   },
   "file_extension": ".py",
   "mimetype": "text/x-python",
   "name": "python",
   "nbconvert_exporter": "python",
   "pygments_lexer": "ipython3",
   "version": "3.9.2"
  }
 },
 "nbformat": 4,
 "nbformat_minor": 5
}
