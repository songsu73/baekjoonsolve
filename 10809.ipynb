{
 "cells": [
  {
   "cell_type": "code",
   "execution_count": 8,
   "id": "9ef23720",
   "metadata": {},
   "outputs": [
    {
     "name": "stdout",
     "output_type": "stream",
     "text": [
      "baekjoon\n",
      "1 0 -1 -1 2 -1 -1 -1 -1 4 3 -1 -1 7 5 -1 -1 -1 -1 -1 -1 -1 -1 -1 -1 -1 "
     ]
    }
   ],
   "source": [
    "from string import ascii_lowercase\n",
    "\n",
    "wordlist = input()\n",
    "countlist = []\n",
    "j = 0\n",
    "k = 0\n",
    "alphalist = list(ascii_lowercase)\n",
    "\n",
    "for _ in alphalist :\n",
    "    countlist.append(-1)\n",
    "    \n",
    "for i in wordlist :\n",
    "    j = alphalist.index(i)\n",
    "    if countlist[j] != -1 :\n",
    "        k += 1\n",
    "        continue     \n",
    "    \n",
    "    countlist[j] = k\n",
    "    k += 1\n",
    "    \n",
    "for q in countlist :\n",
    "    print(q,end=\" \")"
   ]
  },
  {
   "cell_type": "code",
   "execution_count": null,
   "id": "2b038203",
   "metadata": {},
   "outputs": [],
   "source": []
  }
 ],
 "metadata": {
  "kernelspec": {
   "display_name": "Python 3 (ipykernel)",
   "language": "python",
   "name": "python3"
  },
  "language_info": {
   "codemirror_mode": {
    "name": "ipython",
    "version": 3
   },
   "file_extension": ".py",
   "mimetype": "text/x-python",
   "name": "python",
   "nbconvert_exporter": "python",
   "pygments_lexer": "ipython3",
   "version": "3.9.2"
  }
 },
 "nbformat": 4,
 "nbformat_minor": 5
}
