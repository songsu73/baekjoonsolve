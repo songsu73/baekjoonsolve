{
 "cells": [
  {
   "cell_type": "code",
   "execution_count": 1,
   "id": "85fe0072",
   "metadata": {},
   "outputs": [
    {
     "name": "stdout",
     "output_type": "stream",
     "text": [
      "5\n",
      "20 10 35 30 7\n",
      "35 7\n"
     ]
    }
   ],
   "source": [
    "count = int(input())\n",
    "\n",
    "numlist = input()\n",
    "numlist = numlist.split()\n",
    "numlist = list(map(int,numlist))\n",
    "\n",
    "nummax = max(numlist)\n",
    "nummin = min(numlist)\n",
    "\n",
    "print(\"%d %d\"%(nummin, nummax))\n"
   ]
  },
  {
   "cell_type": "code",
   "execution_count": null,
   "id": "ce235fd9",
   "metadata": {},
   "outputs": [],
   "source": []
  }
 ],
 "metadata": {
  "kernelspec": {
   "display_name": "Python 3 (ipykernel)",
   "language": "python",
   "name": "python3"
  },
  "language_info": {
   "codemirror_mode": {
    "name": "ipython",
    "version": 3
   },
   "file_extension": ".py",
   "mimetype": "text/x-python",
   "name": "python",
   "nbconvert_exporter": "python",
   "pygments_lexer": "ipython3",
   "version": "3.9.2"
  }
 },
 "nbformat": 4,
 "nbformat_minor": 5
}
