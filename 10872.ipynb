{
 "cells": [
  {
   "cell_type": "code",
   "execution_count": 9,
   "id": "5a33b5a1",
   "metadata": {},
   "outputs": [
    {
     "name": "stdout",
     "output_type": "stream",
     "text": [
      "10\n",
      "3628800\n"
     ]
    }
   ],
   "source": [
    "n = int(input())\n",
    "answer = 1\n",
    "\n",
    "def myfunc(a) :\n",
    "    global answer\n",
    "\n",
    "    if a == 0 :\n",
    "        print(answer)\n",
    "    else : \n",
    "        answer = answer * a\n",
    "        myfunc(a-1)    \n",
    "\n",
    "if n == 0 :\n",
    "    print(1)\n",
    "else :\n",
    "    myfunc(n)\n",
    "    "
   ]
  },
  {
   "cell_type": "code",
   "execution_count": null,
   "id": "c7f78ce9",
   "metadata": {},
   "outputs": [],
   "source": []
  }
 ],
 "metadata": {
  "kernelspec": {
   "display_name": "Python 3",
   "language": "python",
   "name": "python3"
  },
  "language_info": {
   "codemirror_mode": {
    "name": "ipython",
    "version": 3
   },
   "file_extension": ".py",
   "mimetype": "text/x-python",
   "name": "python",
   "nbconvert_exporter": "python",
   "pygments_lexer": "ipython3",
   "version": "3.8.8"
  }
 },
 "nbformat": 4,
 "nbformat_minor": 5
}
