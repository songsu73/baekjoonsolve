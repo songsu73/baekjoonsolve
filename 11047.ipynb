{
 "cells": [
  {
   "cell_type": "code",
   "execution_count": 11,
   "id": "1e52d100",
   "metadata": {},
   "outputs": [
    {
     "name": "stdout",
     "output_type": "stream",
     "text": [
      "10 4200\n",
      "1\n",
      "5\n",
      "10\n",
      "50\n",
      "100\n",
      "500\n",
      "1000\n",
      "5000\n",
      "10000\n",
      "50000\n",
      "6\n"
     ]
    }
   ],
   "source": [
    "n, k =map(int,input().split())\n",
    "coinarray = []\n",
    "a = 0\n",
    "answer = 0\n",
    "for _ in range(n) :\n",
    "    coinarray.append(int(input()))\n",
    "    \n",
    "while (k > coinarray[1]) :\n",
    "    for i in range(n) :\n",
    "        if k < coinarray[i] :\n",
    "            a = i-1\n",
    "            break\n",
    "    answer += int(k/coinarray[a])\n",
    "    k = int(k%coinarray[a])\n",
    "\n",
    "answer += k % coinarray[0]\n",
    "print(answer)\n",
    "    "
   ]
  },
  {
   "cell_type": "code",
   "execution_count": 6,
   "id": "a98cc202",
   "metadata": {},
   "outputs": [
    {
     "name": "stdout",
     "output_type": "stream",
     "text": [
      "200\n"
     ]
    }
   ],
   "source": [
    "q = 4200\n",
    "q = int(4200%1000)\n",
    "w = int()\n",
    "print(q)"
   ]
  },
  {
   "cell_type": "code",
   "execution_count": null,
   "id": "d5573442",
   "metadata": {},
   "outputs": [],
   "source": []
  }
 ],
 "metadata": {
  "kernelspec": {
   "display_name": "Python 3",
   "language": "python",
   "name": "python3"
  },
  "language_info": {
   "codemirror_mode": {
    "name": "ipython",
    "version": 3
   },
   "file_extension": ".py",
   "mimetype": "text/x-python",
   "name": "python",
   "nbconvert_exporter": "python",
   "pygments_lexer": "ipython3",
   "version": "3.8.8"
  }
 },
 "nbformat": 4,
 "nbformat_minor": 5
}
