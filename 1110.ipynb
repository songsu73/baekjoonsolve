{
 "cells": [
  {
   "cell_type": "code",
   "execution_count": 29,
   "id": "e4f90126",
   "metadata": {},
   "outputs": [
    {
     "name": "stdout",
     "output_type": "stream",
     "text": [
      "55\n",
      "3\n"
     ]
    }
   ],
   "source": [
    "n = int(input())\n",
    "a = n\n",
    "answer = 0\n",
    "\n",
    "while(True) :\n",
    "    a10 = int(a/10)\n",
    "    a1 = int(a%10)\n",
    "    q = (a10 + a1) % 10\n",
    "    if a == n and answer != 0 :\n",
    "        break\n",
    "    elif a < 10 and a10 + a1 < 10 :\n",
    "        a = a1 * 10 + q\n",
    "        answer += 1\n",
    "    elif a10 + a1 < 10 :\n",
    "        a = a1 * 10 + (a10+a1)\n",
    "        answer += 1\n",
    "    elif a10 + a1 >= 10 :\n",
    "        a = a1 * 10 + q\n",
    "        answer += 1\n",
    "        \n",
    "print(answer)"
   ]
  },
  {
   "cell_type": "code",
   "execution_count": null,
   "id": "47c2c04f",
   "metadata": {},
   "outputs": [],
   "source": []
  },
  {
   "cell_type": "code",
   "execution_count": null,
   "id": "c9eee656",
   "metadata": {},
   "outputs": [],
   "source": []
  }
 ],
 "metadata": {
  "kernelspec": {
   "display_name": "Python 3",
   "language": "python",
   "name": "python3"
  },
  "language_info": {
   "codemirror_mode": {
    "name": "ipython",
    "version": 3
   },
   "file_extension": ".py",
   "mimetype": "text/x-python",
   "name": "python",
   "nbconvert_exporter": "python",
   "pygments_lexer": "ipython3",
   "version": "3.8.8"
  }
 },
 "nbformat": 4,
 "nbformat_minor": 5
}
