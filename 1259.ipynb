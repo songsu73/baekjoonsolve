{
 "cells": [
  {
   "cell_type": "code",
   "execution_count": 16,
   "id": "43ed6da0",
   "metadata": {},
   "outputs": [
    {
     "name": "stdout",
     "output_type": "stream",
     "text": [
      "12321\n",
      "yes\n",
      "1221\n",
      "yes\n",
      "1551\n",
      "yes\n",
      "1431\n",
      "no\n",
      "15654\n",
      "no\n",
      "154184\n",
      "no\n",
      "2153\n",
      "no\n",
      "0\n"
     ]
    }
   ],
   "source": [
    "while(True) :\n",
    "    n = input()\n",
    "    if int(n) == 0 :\n",
    "        break\n",
    "    else :\n",
    "        j = 0\n",
    "        answerlist = []\n",
    "        for i in list(n)[::-1] :\n",
    "            answerlist.append(i)\n",
    "            j += 1\n",
    "        if list(n) == answerlist :\n",
    "            print('yes')\n",
    "        else :\n",
    "            print('no')"
   ]
  },
  {
   "cell_type": "code",
   "execution_count": 15,
   "id": "d520497e",
   "metadata": {},
   "outputs": [
    {
     "name": "stdout",
     "output_type": "stream",
     "text": [
      "5\n",
      "4\n",
      "3\n",
      "2\n",
      "1\n"
     ]
    }
   ],
   "source": [
    "n = [1,2,3,4,5]\n",
    "for i in n[::-1] :\n",
    "    print(i)"
   ]
  },
  {
   "cell_type": "code",
   "execution_count": null,
   "id": "4b5ba713",
   "metadata": {},
   "outputs": [],
   "source": []
  }
 ],
 "metadata": {
  "kernelspec": {
   "display_name": "Python 3",
   "language": "python",
   "name": "python3"
  },
  "language_info": {
   "codemirror_mode": {
    "name": "ipython",
    "version": 3
   },
   "file_extension": ".py",
   "mimetype": "text/x-python",
   "name": "python",
   "nbconvert_exporter": "python",
   "pygments_lexer": "ipython3",
   "version": "3.8.8"
  }
 },
 "nbformat": 4,
 "nbformat_minor": 5
}
