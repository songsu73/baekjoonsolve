{
 "cells": [
  {
   "cell_type": "code",
   "execution_count": 8,
   "id": "84854d34",
   "metadata": {},
   "outputs": [
    {
     "name": "stdout",
     "output_type": "stream",
     "text": [
      "10\n",
      "11 13 15 17 19 11 13 15 17 19\n",
      "8\n"
     ]
    }
   ],
   "source": [
    "n = int(input())\n",
    "numlist = list(map(int,input().split()))\n",
    "result = n\n",
    "for i in range(n) :\n",
    "    if numlist[i] == 1 :\n",
    "        result -= 1\n",
    "    if numlist[i] > 2 :\n",
    "        for j in range(2, numlist[i]) :\n",
    "            if numlist[i] % j == 0 :   \n",
    "                result -= 1\n",
    "                break\n",
    "print(result)\n",
    "        "
   ]
  },
  {
   "cell_type": "code",
   "execution_count": null,
   "id": "91a5c3c6",
   "metadata": {},
   "outputs": [],
   "source": []
  }
 ],
 "metadata": {
  "kernelspec": {
   "display_name": "Python 3",
   "language": "python",
   "name": "python3"
  },
  "language_info": {
   "codemirror_mode": {
    "name": "ipython",
    "version": 3
   },
   "file_extension": ".py",
   "mimetype": "text/x-python",
   "name": "python",
   "nbconvert_exporter": "python",
   "pygments_lexer": "ipython3",
   "version": "3.8.8"
  }
 },
 "nbformat": 4,
 "nbformat_minor": 5
}
