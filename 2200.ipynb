{
 "cells": [
  {
   "cell_type": "code",
   "execution_count": 45,
   "id": "937ccbf3",
   "metadata": {},
   "outputs": [
    {
     "name": "stdout",
     "output_type": "stream",
     "text": [
      "2\n",
      "1 0 1\n",
      "6\n"
     ]
    }
   ],
   "source": [
    "n = int(input())\n",
    "numlist = list(map(int,input().split()))\n",
    "i = 1\n",
    "answer = 1\n",
    "if n == 1 :\n",
    "    if numlist[0] > 1 :\n",
    "        answer = answer + 1 + len(str(numlist[0]))\n",
    "        if numlist[1] > 0 :\n",
    "            answer = answer + 2 + len(str(numlist[1]))\n",
    "        else :\n",
    "            answer += 1\n",
    "            \n",
    "    else :\n",
    "        if numlist[1] > 0 :\n",
    "            answer = answer + 2 + len(str(numlist[1]))\n",
    "        else :\n",
    "            answer += 1\n",
    "\n",
    "else :\n",
    "    while(i != n+1) :\n",
    "        if n == i :\n",
    "            if numlist[i] > 0 :\n",
    "                answer = answer + len(str(numlist[i])) + 2\n",
    "                break\n",
    "            else :\n",
    "                answer = answer + 1\n",
    "                break\n",
    "        else :\n",
    "            if numlist[i] == 0 :\n",
    "                answer += 2\n",
    "                i += 1\n",
    "            else :\n",
    "                answer = answer + len(str(numlist[i])) + 1\n",
    "                answer += 2\n",
    "                i += 1\n",
    "        \n",
    "print(answer)"
   ]
  },
  {
   "cell_type": "code",
   "execution_count": null,
   "id": "78542589",
   "metadata": {},
   "outputs": [],
   "source": []
  },
  {
   "cell_type": "code",
   "execution_count": null,
   "id": "8ae654a9",
   "metadata": {},
   "outputs": [],
   "source": []
  }
 ],
 "metadata": {
  "kernelspec": {
   "display_name": "Python 3",
   "language": "python",
   "name": "python3"
  },
  "language_info": {
   "codemirror_mode": {
    "name": "ipython",
    "version": 3
   },
   "file_extension": ".py",
   "mimetype": "text/x-python",
   "name": "python",
   "nbconvert_exporter": "python",
   "pygments_lexer": "ipython3",
   "version": "3.8.8"
  }
 },
 "nbformat": 4,
 "nbformat_minor": 5
}
