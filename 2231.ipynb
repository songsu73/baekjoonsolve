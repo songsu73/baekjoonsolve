{
 "cells": [
  {
   "cell_type": "code",
   "execution_count": 32,
   "id": "9c343760",
   "metadata": {},
   "outputs": [
    {
     "name": "stdout",
     "output_type": "stream",
     "text": [
      "8\n",
      "4\n"
     ]
    }
   ],
   "source": [
    "n = int(input())\n",
    "answer = 0\n",
    "k = 1\n",
    "while(True) :\n",
    "    answer = k\n",
    "    for i in str(k) :\n",
    "        answer += int(i)\n",
    "    if n == answer :\n",
    "        break\n",
    "    elif n == k :\n",
    "        k = 0\n",
    "        break\n",
    "    else :\n",
    "        k += 1\n",
    "print(k)"
   ]
  },
  {
   "cell_type": "code",
   "execution_count": 11,
   "id": "081581cf",
   "metadata": {},
   "outputs": [
    {
     "name": "stdout",
     "output_type": "stream",
     "text": [
      "123\n",
      "3\n",
      "2\n",
      "1\n",
      "0.123\n",
      "0\n"
     ]
    }
   ],
   "source": [
    "n = 123\n",
    "print(n)\n",
    "print(n%10)\n",
    "n = n / 10\n",
    "print(int(n%10))\n",
    "n = n / 10\n",
    "print(int(n%10))\n",
    "n = n / 10\n",
    "print(n)\n",
    "print(int(n%10))\n"
   ]
  },
  {
   "cell_type": "code",
   "execution_count": 16,
   "id": "a958833a",
   "metadata": {},
   "outputs": [
    {
     "name": "stdout",
     "output_type": "stream",
     "text": [
      "2\n"
     ]
    }
   ],
   "source": [
    "k = 1\n",
    "answer = 1\n",
    "for i in str(k) :\n",
    "    answer += int(i)\n",
    "print(answer)"
   ]
  },
  {
   "cell_type": "code",
   "execution_count": null,
   "id": "4b63ae7f",
   "metadata": {},
   "outputs": [],
   "source": []
  }
 ],
 "metadata": {
  "kernelspec": {
   "display_name": "Python 3",
   "language": "python",
   "name": "python3"
  },
  "language_info": {
   "codemirror_mode": {
    "name": "ipython",
    "version": 3
   },
   "file_extension": ".py",
   "mimetype": "text/x-python",
   "name": "python",
   "nbconvert_exporter": "python",
   "pygments_lexer": "ipython3",
   "version": "3.8.8"
  }
 },
 "nbformat": 4,
 "nbformat_minor": 5
}
