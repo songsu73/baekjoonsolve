{
 "cells": [
  {
   "cell_type": "code",
   "execution_count": 28,
   "id": "0179ec43",
   "metadata": {},
   "outputs": [
    {
     "name": "stdout",
     "output_type": "stream",
     "text": [
      "64\n",
      "65\n",
      "-1\n"
     ]
    }
   ],
   "source": [
    "m = int(input())\n",
    "n = int(input())\n",
    "\n",
    "pmsum = 0\n",
    "pmmini = 0\n",
    "if n == 1  :\n",
    "    pmsum = 0\n",
    "elif n == 2 :\n",
    "    pmsum = 2\n",
    "    pmmini = 2\n",
    "else :\n",
    "    for i in range(m,n+1) :\n",
    "        if i == 2 :\n",
    "            pmmini = 2\n",
    "            pmsum += 2\n",
    "        for j in range(2,i) :\n",
    "            if i % j == 0 :\n",
    "                break\n",
    "            elif i == j+1 :\n",
    "                if pmmini == 0 :\n",
    "                    pmmini = i\n",
    "                    pmsum += i\n",
    "                else :\n",
    "                    pmsum += i\n",
    "\n",
    "if pmsum == 0 :\n",
    "    print(-1)\n",
    "else :\n",
    "    print(pmsum)\n",
    "    print(pmmini)"
   ]
  },
  {
   "cell_type": "code",
   "execution_count": null,
   "id": "7d9a8853",
   "metadata": {},
   "outputs": [],
   "source": []
  }
 ],
 "metadata": {
  "kernelspec": {
   "display_name": "Python 3",
   "language": "python",
   "name": "python3"
  },
  "language_info": {
   "codemirror_mode": {
    "name": "ipython",
    "version": 3
   },
   "file_extension": ".py",
   "mimetype": "text/x-python",
   "name": "python",
   "nbconvert_exporter": "python",
   "pygments_lexer": "ipython3",
   "version": "3.8.8"
  }
 },
 "nbformat": 4,
 "nbformat_minor": 5
}
