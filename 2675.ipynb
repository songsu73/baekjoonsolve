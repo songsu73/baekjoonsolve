{
 "cells": [
  {
   "cell_type": "code",
   "execution_count": 176,
   "id": "83e8a212",
   "metadata": {
    "scrolled": false
   },
   "outputs": [
    {
     "name": "stdout",
     "output_type": "stream",
     "text": [
      "2\n",
      "3 ABC\n",
      "5 /HTP\n",
      "AAABBBCCC\n",
      "/////HHHHHTTTTTPPPPP\n"
     ]
    }
   ],
   "source": [
    "A = int(input())\n",
    "result = \"\"\n",
    "\n",
    "intlist = []\n",
    "strlist = []\n",
    "\n",
    "for i in range(A) :\n",
    "    inp = input()\n",
    "    inp = inp.split()\n",
    "    intlist.append(int(inp[0]))\n",
    "    strlist.append(str(inp[1]))\n",
    "\n",
    "for i in range(A) :\n",
    "    x = intlist[i]\n",
    "    y = strlist[i]\n",
    "    z = len(y)\n",
    "    \n",
    "    for j in range(z) :\n",
    "        result += y[j]*x\n",
    "    print(result)\n",
    "    result = \"\"\n",
    " \n",
    "    "
   ]
  },
  {
   "cell_type": "code",
   "execution_count": 173,
   "id": "f6593ee7",
   "metadata": {},
   "outputs": [],
   "source": [
    "del result"
   ]
  },
  {
   "cell_type": "code",
   "execution_count": null,
   "id": "56cb828b",
   "metadata": {},
   "outputs": [],
   "source": []
  }
 ],
 "metadata": {
  "kernelspec": {
   "display_name": "Python 3 (ipykernel)",
   "language": "python",
   "name": "python3"
  },
  "language_info": {
   "codemirror_mode": {
    "name": "ipython",
    "version": 3
   },
   "file_extension": ".py",
   "mimetype": "text/x-python",
   "name": "python",
   "nbconvert_exporter": "python",
   "pygments_lexer": "ipython3",
   "version": "3.9.2"
  }
 },
 "nbformat": 4,
 "nbformat_minor": 5
}
