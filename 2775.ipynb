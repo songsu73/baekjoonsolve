{
 "cells": [
  {
   "cell_type": "code",
   "execution_count": 7,
   "id": "c0fd85ff",
   "metadata": {},
   "outputs": [
    {
     "name": "stdout",
     "output_type": "stream",
     "text": [
      "2\n",
      "14\n",
      "14\n",
      "37442160\n",
      "1\n",
      "7\n",
      "28\n"
     ]
    }
   ],
   "source": [
    "t = int(input())\n",
    "\n",
    "for _ in range(t) :\n",
    "    k = int(input())\n",
    "    n = int(input())\n",
    "    newlist = [i for i in range(1, 15)]\n",
    "    if k == 0 :\n",
    "        print(n)\n",
    "    elif n == 1 :\n",
    "        print(1)\n",
    "    else :\n",
    "        for _ in range(k) :\n",
    "            for i in range(1, 14) :\n",
    "                newlist[i] = newlist[i] + newlist[i-1]\n",
    "        print(newlist[n-1])"
   ]
  },
  {
   "cell_type": "code",
   "execution_count": 6,
   "id": "75a4d9f7",
   "metadata": {},
   "outputs": [
    {
     "ename": "SyntaxError",
     "evalue": "invalid syntax (Temp/ipykernel_20400/563829865.py, line 1)",
     "output_type": "error",
     "traceback": [
      "\u001b[1;36m  File \u001b[1;32m\"C:\\Users\\soft\\AppData\\Local\\Temp/ipykernel_20400/563829865.py\"\u001b[1;36m, line \u001b[1;32m1\u001b[0m\n\u001b[1;33m    1 2 3 4 5 6 7 8 9 10\u001b[0m\n\u001b[1;37m      ^\u001b[0m\n\u001b[1;31mSyntaxError\u001b[0m\u001b[1;31m:\u001b[0m invalid syntax\n"
     ]
    }
   ],
   "source": [
    "1 2 3 4 5 6 7 8 9 10\n",
    "1 3 6 10 15 21 28"
   ]
  },
  {
   "cell_type": "code",
   "execution_count": null,
   "id": "1d6b72a9",
   "metadata": {},
   "outputs": [],
   "source": []
  }
 ],
 "metadata": {
  "kernelspec": {
   "display_name": "Python 3 (ipykernel)",
   "language": "python",
   "name": "python3"
  },
  "language_info": {
   "codemirror_mode": {
    "name": "ipython",
    "version": 3
   },
   "file_extension": ".py",
   "mimetype": "text/x-python",
   "name": "python",
   "nbconvert_exporter": "python",
   "pygments_lexer": "ipython3",
   "version": "3.9.2"
  }
 },
 "nbformat": 4,
 "nbformat_minor": 5
}
