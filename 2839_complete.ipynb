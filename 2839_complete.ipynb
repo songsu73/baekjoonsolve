{
 "cells": [
  {
   "cell_type": "code",
   "execution_count": 33,
   "id": "fb4a7d48",
   "metadata": {},
   "outputs": [
    {
     "name": "stdout",
     "output_type": "stream",
     "text": [
      "36\n",
      "8\n"
     ]
    }
   ],
   "source": [
    "n = int(input()) \n",
    "\n",
    "answer = 0 \n",
    "\n",
    "while n >= 0 :\n",
    "    if n % 5 == 0 : \n",
    "        result += int(n/5) \n",
    "        print(result)\n",
    "        break\n",
    "    n -= 3 # 설탕이 5의 배수가 될때까지 반복\n",
    "    result += 1 # 봉지 추가\n",
    "else:\n",
    "    print(-1) # while문이 거짓이 되면 -1 출력"
   ]
  },
  {
   "cell_type": "code",
   "execution_count": null,
   "id": "d4e4d39a",
   "metadata": {},
   "outputs": [],
   "source": []
  }
 ],
 "metadata": {
  "kernelspec": {
   "display_name": "Python 3",
   "language": "python",
   "name": "python3"
  },
  "language_info": {
   "codemirror_mode": {
    "name": "ipython",
    "version": 3
   },
   "file_extension": ".py",
   "mimetype": "text/x-python",
   "name": "python",
   "nbconvert_exporter": "python",
   "pygments_lexer": "ipython3",
   "version": "3.8.8"
  }
 },
 "nbformat": 4,
 "nbformat_minor": 5
}
