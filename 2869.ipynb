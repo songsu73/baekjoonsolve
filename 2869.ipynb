{
 "cells": [
  {
   "cell_type": "code",
   "execution_count": 9,
   "id": "7c84158a",
   "metadata": {},
   "outputs": [
    {
     "name": "stdout",
     "output_type": "stream",
     "text": [
      "4 1 6\n",
      "2\n"
     ]
    }
   ],
   "source": [
    "a,b,v = list(map(int,input().split()))\n",
    "\n",
    "ans = int((v-b) / (a-b))\n",
    "\n",
    "    print(ans)\n",
    "else :\n",
    "    print(ans+1)"
   ]
  },
  {
   "cell_type": "code",
   "execution_count": null,
   "id": "88eb700c",
   "metadata": {},
   "outputs": [],
   "source": []
  },
  {
   "cell_type": "code",
   "execution_count": null,
   "id": "c3fb558d",
   "metadata": {},
   "outputs": [],
   "source": []
  }
 ],
 "metadata": {
  "kernelspec": {
   "display_name": "Python 3 (ipykernel)",
   "language": "python",
   "name": "python3"
  },
  "language_info": {
   "codemirror_mode": {
    "name": "ipython",
    "version": 3
   },
   "file_extension": ".py",
   "mimetype": "text/x-python",
   "name": "python",
   "nbconvert_exporter": "python",
   "pygments_lexer": "ipython3",
   "version": "3.9.2"
  }
 },
 "nbformat": 4,
 "nbformat_minor": 5
}
