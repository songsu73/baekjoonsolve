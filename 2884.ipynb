{
 "cells": [
  {
   "cell_type": "code",
   "execution_count": null,
   "id": "230b4ee5",
   "metadata": {},
   "outputs": [],
   "source": [
    "timeinput = input()\n",
    "timeinput = timeinput.split()\n",
    "timeinput = list(map(int,timeinput))\n",
    "\n",
    "h = timeinput[0]\n",
    "m = timeinput[1]\n",
    "\n",
    "if m-45 < 0 :\n",
    "    if h == 0 :\n",
    "        h = 23\n",
    "        m = 60+(m-45)\n",
    "    h = h-1\n",
    "    m = 60+(m-45)\n",
    "else :\n",
    "    m = m - 45\n",
    "    \n"
   ]
  }
 ],
 "metadata": {
  "kernelspec": {
   "display_name": "Python 3 (ipykernel)",
   "language": "python",
   "name": "python3"
  },
  "language_info": {
   "codemirror_mode": {
    "name": "ipython",
    "version": 3
   },
   "file_extension": ".py",
   "mimetype": "text/x-python",
   "name": "python",
   "nbconvert_exporter": "python",
   "pygments_lexer": "ipython3",
   "version": "3.9.2"
  }
 },
 "nbformat": 4,
 "nbformat_minor": 5
}
