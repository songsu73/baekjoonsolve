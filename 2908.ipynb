{
 "cells": [
  {
   "cell_type": "code",
   "execution_count": 10,
   "id": "c9ffdf86",
   "metadata": {},
   "outputs": [
    {
     "name": "stdout",
     "output_type": "stream",
     "text": [
      "839 237\n",
      "938\n"
     ]
    }
   ],
   "source": [
    "inp = input()\n",
    "inp = inp.split()\n",
    "inp = list(map(str, inp))\n",
    "\n",
    "x = inp[0]\n",
    "y = inp[1]\n",
    "x_1 = \"\" \n",
    "y_1 = \"\"\n",
    "for i in range(3) :\n",
    "    x_1 += x[2-i]\n",
    "    y_1 += y[2-i]\n",
    "if int(x_1) > int(y_1) :\n",
    "    print(x_1)\n",
    "else :\n",
    "    print(y_1)"
   ]
  },
  {
   "cell_type": "code",
   "execution_count": null,
   "id": "4e681d98",
   "metadata": {},
   "outputs": [],
   "source": []
  }
 ],
 "metadata": {
  "kernelspec": {
   "display_name": "Python 3 (ipykernel)",
   "language": "python",
   "name": "python3"
  },
  "language_info": {
   "codemirror_mode": {
    "name": "ipython",
    "version": 3
   },
   "file_extension": ".py",
   "mimetype": "text/x-python",
   "name": "python",
   "nbconvert_exporter": "python",
   "pygments_lexer": "ipython3",
   "version": "3.9.2"
  }
 },
 "nbformat": 4,
 "nbformat_minor": 5
}
