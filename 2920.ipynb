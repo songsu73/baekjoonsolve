{
 "cells": [
  {
   "cell_type": "code",
   "execution_count": 11,
   "id": "d62c2991",
   "metadata": {},
   "outputs": [
    {
     "name": "stdout",
     "output_type": "stream",
     "text": [
      "8 7 6 5 4 3 2 1\n",
      "decending\n"
     ]
    }
   ],
   "source": [
    "inp = input()\n",
    "inp = inp.split()\n",
    "inp = list(map(int,inp))\n",
    "\n",
    "sortlist = sorted(inp)\n",
    "desortlist = list(reversed(sorted(inp)))\n",
    "\n",
    "if sortlist == inp :\n",
    "    print(\"ascending\")\n",
    "elif desortlist == inp :\n",
    "    print(\"descending\")\n",
    "else :\n",
    "    print(\"mixed\")"
   ]
  },
  {
   "cell_type": "code",
   "execution_count": null,
   "id": "f278d03a",
   "metadata": {},
   "outputs": [],
   "source": []
  }
 ],
 "metadata": {
  "kernelspec": {
   "display_name": "Python 3 (ipykernel)",
   "language": "python",
   "name": "python3"
  },
  "language_info": {
   "codemirror_mode": {
    "name": "ipython",
    "version": 3
   },
   "file_extension": ".py",
   "mimetype": "text/x-python",
   "name": "python",
   "nbconvert_exporter": "python",
   "pygments_lexer": "ipython3",
   "version": "3.9.2"
  }
 },
 "nbformat": 4,
 "nbformat_minor": 5
}
