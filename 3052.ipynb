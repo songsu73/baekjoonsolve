{
 "cells": [
  {
   "cell_type": "code",
   "execution_count": null,
   "id": "c861b48e",
   "metadata": {},
   "outputs": [],
   "source": [
    "numlist = []\n",
    "counter = 0\n",
    "overlap = 0\n",
    "\n",
    "for _ in range(10) :\n",
    "    x = int(input())\n",
    "    numlist.append(x%42)\n",
    "for i in range(42) :\n",
    "    if numlist.count(i) > 0 :\n",
    "        counter += 1\n",
    "print(counter)"
   ]
  }
 ],
 "metadata": {
  "kernelspec": {
   "display_name": "Python 3 (ipykernel)",
   "language": "python",
   "name": "python3"
  },
  "language_info": {
   "codemirror_mode": {
    "name": "ipython",
    "version": 3
   },
   "file_extension": ".py",
   "mimetype": "text/x-python",
   "name": "python",
   "nbconvert_exporter": "python",
   "pygments_lexer": "ipython3",
   "version": "3.9.2"
  }
 },
 "nbformat": 4,
 "nbformat_minor": 5
}
