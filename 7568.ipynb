{
 "cells": [
  {
   "cell_type": "code",
   "execution_count": 8,
   "id": "74f2f867",
   "metadata": {},
   "outputs": [
    {
     "name": "stdout",
     "output_type": "stream",
     "text": [
      "5\n",
      "55 185\n",
      "58 183\n",
      "88 186\n",
      "60 175\n",
      "46 155\n",
      "1 1 0 1 4 "
     ]
    }
   ],
   "source": [
    "n = int(input())\n",
    "wlist = []\n",
    "hlist = []\n",
    "rlist = []\n",
    "for _ in range(n) :\n",
    "    x, y = map(int,input().split())\n",
    "    wlist.append(x)\n",
    "    hlist.append(y)\n",
    "for i in range(n) :\n",
    "    rank = 1\n",
    "    for j in range(n) :\n",
    "        if wlist[i] < wlist[j] :\n",
    "            if hlist[i] < hlist[j] :\n",
    "                rank += 1\n",
    "    rlist.append(rank)\n",
    "for i in rlist :\n",
    "    print(i, end=' ')"
   ]
  },
  {
   "cell_type": "code",
   "execution_count": null,
   "id": "7c4b4f8c",
   "metadata": {},
   "outputs": [],
   "source": []
  }
 ],
 "metadata": {
  "kernelspec": {
   "display_name": "Python 3",
   "language": "python",
   "name": "python3"
  },
  "language_info": {
   "codemirror_mode": {
    "name": "ipython",
    "version": 3
   },
   "file_extension": ".py",
   "mimetype": "text/x-python",
   "name": "python",
   "nbconvert_exporter": "python",
   "pygments_lexer": "ipython3",
   "version": "3.8.8"
  }
 },
 "nbformat": 4,
 "nbformat_minor": 5
}
