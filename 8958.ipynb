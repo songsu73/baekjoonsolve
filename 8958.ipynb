{
 "cells": [
  {
   "cell_type": "code",
   "execution_count": 15,
   "id": "c59eea3e",
   "metadata": {},
   "outputs": [
    {
     "name": "stdout",
     "output_type": "stream",
     "text": [
      "3\n",
      "OOXXOXXOOO\n",
      "OOXXOOXXOO\n",
      "OXOXOXOXOXOXOX\n",
      "10\n",
      "9\n",
      "7\n"
     ]
    }
   ],
   "source": [
    "num = int(input())\n",
    "caselist = []\n",
    "score = 0\n",
    "prescore = 0\n",
    "for _ in range(num) :\n",
    "    caselist.append(input())\n",
    "for case in caselist :\n",
    "    for i in case :\n",
    "        if i == \"O\" :\n",
    "            prescore += 1\n",
    "            score += prescore\n",
    "        else :\n",
    "            prescore = 0\n",
    "    print(score)\n",
    "    score = 0\n",
    "    prescore = 0"
   ]
  },
  {
   "cell_type": "code",
   "execution_count": null,
   "id": "9a121b5f",
   "metadata": {},
   "outputs": [],
   "source": []
  },
  {
   "cell_type": "code",
   "execution_count": null,
   "id": "a572536c",
   "metadata": {},
   "outputs": [],
   "source": []
  }
 ],
 "metadata": {
  "kernelspec": {
   "display_name": "Python 3 (ipykernel)",
   "language": "python",
   "name": "python3"
  },
  "language_info": {
   "codemirror_mode": {
    "name": "ipython",
    "version": 3
   },
   "file_extension": ".py",
   "mimetype": "text/x-python",
   "name": "python",
   "nbconvert_exporter": "python",
   "pygments_lexer": "ipython3",
   "version": "3.9.2"
  }
 },
 "nbformat": 4,
 "nbformat_minor": 5
}
