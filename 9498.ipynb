{
 "cells": [
  {
   "cell_type": "code",
   "execution_count": 4,
   "id": "17f0e002",
   "metadata": {},
   "outputs": [
    {
     "name": "stdout",
     "output_type": "stream",
     "text": [
      "100\n",
      "A\n"
     ]
    }
   ],
   "source": [
    "score = int(input())\n",
    "if score >= 90 :\n",
    "    print(\"A\")\n",
    "elif score >= 80 :\n",
    "    print(\"B\")\n",
    "elif score >= 70 :\n",
    "    print(\"C\")\n",
    "elif score >= 60 :\n",
    "    print(\"D\")\n",
    "else :\n",
    "    print(\"F\")\n"
   ]
  },
  {
   "cell_type": "code",
   "execution_count": null,
   "id": "b1f6fd65",
   "metadata": {},
   "outputs": [],
   "source": []
  }
 ],
 "metadata": {
  "kernelspec": {
   "display_name": "Python 3 (ipykernel)",
   "language": "python",
   "name": "python3"
  },
  "language_info": {
   "codemirror_mode": {
    "name": "ipython",
    "version": 3
   },
   "file_extension": ".py",
   "mimetype": "text/x-python",
   "name": "python",
   "nbconvert_exporter": "python",
   "pygments_lexer": "ipython3",
   "version": "3.9.2"
  }
 },
 "nbformat": 4,
 "nbformat_minor": 5
}
